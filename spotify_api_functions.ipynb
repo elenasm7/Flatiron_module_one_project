{
 "cells": [
  {
   "cell_type": "code",
   "execution_count": 7,
   "metadata": {},
   "outputs": [],
   "source": [
    "#!pip install spotipy\n",
    "from spotipy.oauth2 import SpotifyClientCredentials\n",
    "import spotipy\n",
    "import json\n",
    "\n",
    "playlist_uri = 'spotify:user:spotify:playlist:37i9dQZF1DX82tVoNhkbcO'\n",
    "\n",
    "client_id=''\n",
    "client_secret=''"
   ]
  },
  {
   "cell_type": "code",
   "execution_count": null,
   "metadata": {},
   "outputs": [],
   "source": [
    "def get_token_and_spotify(client_id, client_secret):\n",
    "    credentials = oauth2.SpotifyClientCredentials(\n",
    "    client_id=client_id,\n",
    "    client_secret=client_secret)\n",
    "\n",
    "    token = credentials.get_access_token()\n",
    "    spotify_token = spotipy.Spotify(auth=token)\n",
    "    \n",
    "    return spotify_token"
   ]
  },
  {
   "cell_type": "code",
   "execution_count": 2,
   "metadata": {
    "collapsed": true
   },
   "outputs": [],
   "source": [
    "def get_artist_from_playlist(spotify_token, playlist_uri):\n",
    "\n",
    "    uri = playlist_uri\n",
    "    username = uri.split(':')[2]\n",
    "    playlist_id = uri.split(':')[4]\n",
    "\n",
    "    results = spotify_token.user_playlist(username, playlist_id)\n",
    "    \n",
    "    l = []              \n",
    "    for i in results['tracks']['items']:\n",
    "        l.append((i['track']['artists'][0]['name'],i['track']['artists'][0]['uri']))                     \n",
    "    return l"
   ]
  },
  {
   "cell_type": "code",
   "execution_count": 4,
   "metadata": {
    "collapsed": true
   },
   "outputs": [],
   "source": [
    "def get_artists_attributes(spotifiy_token,artists_name_and_url):\n",
    "    import time\n",
    "    list_dictionary = []\n",
    "    for artist in artists_name_and_url:\n",
    "        dict_artists = {}\n",
    "        urn = str(artist[1])\n",
    "        results = spotify_token.artist(urn)\n",
    "        dict_artists['name'] = results['name']\n",
    "        dict_artists['followers'] = results['followers']['total']\n",
    "        dict_artists['popularity'] = results['popularity']\n",
    "        dict_artists['genres'] = results['genres']\n",
    "        dict_artists['urn'] = urn\n",
    "        list_dictionary.append(dict_artists)\n",
    "        time.sleep(2)\n",
    "    return list_dictionary"
   ]
  },
  {
   "cell_type": "code",
   "execution_count": 5,
   "metadata": {
    "collapsed": true
   },
   "outputs": [],
   "source": [
    "def get_artist_top_songs(spotify_token, artists_name_and_url):\n",
    "    import time\n",
    "\n",
    "    for artist in artists_name_and_url:\n",
    "        dict_songs = {}\n",
    "        #dict_songs['uri'] = str(artist[1])\n",
    "        dict_songs['artist_name'] = str(artist[0])\n",
    "        dict_songs['uri'] = []\n",
    "        dict_songs['track_name'] = []\n",
    "        dict_songs['popularity'] = []\n",
    "        urn = str(artist[1])\n",
    "        response = spotify_token.artist_top_tracks(urn)\n",
    "        for track in response['tracks']:\n",
    "            tracks = {}\n",
    "            #dict_songs['track_name'] = track['name']\n",
    "            dict_songs['uri'].append(track['uri'])\n",
    "            dict_songs['track_name'].append(track['name'])\n",
    "            dict_songs['popularity'].append(track['popularity'])\n",
    "        list_dictionary.append(dict_songs)\n",
    "        time.sleep(1)\n",
    "    return list_dictionary"
   ]
  },
  {
   "cell_type": "code",
   "execution_count": 6,
   "metadata": {
    "collapsed": true
   },
   "outputs": [],
   "source": [
    "def get_song_features_artists(spotify_token,artists_top_songs):\n",
    "    import time \n",
    "    \n",
    "    arists_song_features = []\n",
    "    for i in new:\n",
    "        artist = {}\n",
    "        artist['artist_name'] = i['artist_name']\n",
    "        artist['song_names'] = i['track_name']\n",
    "        artist['popularity'] = i['popularity']\n",
    "        artist['acousticness'] = []\n",
    "        artist['danceability'] = []\n",
    "        artist['duration_ms'] = []\n",
    "        artist['energy'] = []\n",
    "        artist['instrumentalness'] = []\n",
    "        artist['key'] = []\n",
    "        artist['liveness'] = []\n",
    "        artist['loudness'] = []\n",
    "        artist['mode'] = []\n",
    "        artist['speechiness'] = []\n",
    "        artist['tempo'] = []\n",
    "        artist['time_signature'] = []\n",
    "        artist['valence'] = []\n",
    "        for song in range(10):\n",
    "            uri = i['uri'][song]\n",
    "            features = spotify_token.audio_features(uri)\n",
    "            for feature in features:\n",
    "                test_2 = json.dumps(feature, indent=4)\n",
    "                testing = test_2.split('\\n')\n",
    "                testing_2 = [s.strip().replace('\"', '').replace(',', '').split(': ') for s in testing if s not in ['{','}']]\n",
    "                dict_test = dict(testing_2)\n",
    "                artist['acousticness'].append(dict_test['acousticness'])\n",
    "                artist['danceability'].append(dict_test['danceability'])\n",
    "                artist['duration_ms'].append(dict_test['duration_ms'])\n",
    "                artist['energy'].append(dict_test['energy'])\n",
    "                artist['instrumentalness'].append(dict_test['instrumentalness'])\n",
    "                artist['key'].append(dict_test['key']) \n",
    "                artist['liveness'].append(dict_test['liveness']) \n",
    "                artist['loudness'].append(dict_test['loudness']) \n",
    "                artist['mode'].append(dict_test['mode']) \n",
    "                artist['speechiness'].append(dict_test['speechiness']) \n",
    "                artist['tempo'].append(dict_test['tempo']) \n",
    "                artist['time_signature'].append(dict_test['time_signature'])\n",
    "                artist['valence'].append(dict_test['valence'])\n",
    "                time.sleep(1)\n",
    "        arists_song_features.append(artist)\n",
    "    return arists_song_features"
   ]
  },
  {
   "cell_type": "code",
   "execution_count": null,
   "metadata": {
    "collapsed": true
   },
   "outputs": [],
   "source": []
  }
 ],
 "metadata": {
  "kernelspec": {
   "display_name": "Python 3",
   "language": "python",
   "name": "python3"
  },
  "language_info": {
   "codemirror_mode": {
    "name": "ipython",
    "version": 3
   },
   "file_extension": ".py",
   "mimetype": "text/x-python",
   "name": "python",
   "nbconvert_exporter": "python",
   "pygments_lexer": "ipython3",
   "version": "3.7.1"
  }
 },
 "nbformat": 4,
 "nbformat_minor": 2
}
